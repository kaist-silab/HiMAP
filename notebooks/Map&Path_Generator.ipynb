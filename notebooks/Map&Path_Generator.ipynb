{
 "cells": [
  {
   "cell_type": "code",
   "execution_count": null,
   "metadata": {},
   "outputs": [],
   "source": [
    "# Generate MAPF maps with designated size and obstacle density,\n",
    "# create random start and goal locations and find paths with EECBS (https://github.com/Jiaoyang-Li/EECBS/tree/main)"
   ]
  },
  {
   "cell_type": "code",
   "execution_count": 5,
   "metadata": {},
   "outputs": [],
   "source": [
    "import subprocess\n",
    "from pathlib import Path\n",
    "import numpy as np\n",
    "from pathlib import Path\n",
    "import sys\n",
    "sys.path.append('../')\n",
    "import config"
   ]
  },
  {
   "cell_type": "code",
   "execution_count": 6,
   "metadata": {},
   "outputs": [],
   "source": [
    "def flood_fill(matrix, x, y, old_value, new_value):\n",
    "    \"\"\"Performs the flood fill algorithm\"\"\"\n",
    "    if x < 0 or x >= matrix.shape[0] or y < 0 or y >= matrix.shape[1]:\n",
    "        return\n",
    "    if matrix[x, y] != old_value:\n",
    "        return\n",
    "    matrix[x, y] = new_value\n",
    "    flood_fill(matrix, x+1, y, old_value, new_value)\n",
    "    flood_fill(matrix, x-1, y, old_value, new_value)\n",
    "    flood_fill(matrix, x, y+1, old_value, new_value)\n",
    "    flood_fill(matrix, x, y-1, old_value, new_value)\n",
    "\n",
    "def generate_map(width, height, density, tolerance=0.005):\n",
    "    \"\"\"Generates a grid map with specified width, height, and obstacle density\"\"\"\n",
    "    \n",
    "    iteration = 0\n",
    "    max_iterations = config.MAX_ITERATIONS\n",
    "    \n",
    "    while iteration < max_iterations:\n",
    "        matrix = np.random.choice([0, 1], size=(width, height), p=[1-density, density])\n",
    "        \n",
    "        # Clone the matrix to keep the original for calculation purposes\n",
    "        filled_matrix = matrix.copy()\n",
    "        \n",
    "        # Use flood fill from top-left to mark all reachable cells with value 2\n",
    "        flood_fill(filled_matrix, 0, 0, 0, 2)\n",
    "        \n",
    "        # Calculate the reachable free space\n",
    "        total_free_space = np.sum(filled_matrix == 2)\n",
    "        total_space = width * height\n",
    "        actual_density = 1 - total_free_space/total_space\n",
    "        \n",
    "        # If the actual density is close to desired density, finalize the matrix\n",
    "        if abs(actual_density - density) < tolerance:\n",
    "            # After flood fill, change all 0 (unreachable free cells) to 1 (obstacles)\n",
    "            filled_matrix[filled_matrix == 0] = 1\n",
    "            \n",
    "            # Change the 2's back to 0's\n",
    "            filled_matrix[filled_matrix == 2] = 0\n",
    "            \n",
    "            return filled_matrix\n",
    "        \n",
    "        iteration += 1\n",
    "    \n",
    "    # If we couldn't achieve the desired density in max_iterations\n",
    "    raise ValueError(f\"Unable to generate a grid with the desired density of {density} after {max_iterations} iterations.\")\n",
    "\n",
    "def save_env_map_to_file(map, file_path):\n",
    "    with open(file_path, 'w') as file:\n",
    "        file.write(\"type octile\\n\")\n",
    "        file.write(f\"height {map.shape[0]}\\n\")\n",
    "        file.write(f\"width {map.shape[1]}\\n\")\n",
    "        file.write(\"map\\n\")\n",
    "        for row in map:\n",
    "            line = ''.join(['.' if cell == 0 else '@' for cell in row]) + '\\n'\n",
    "            file.write(line)\n",
    "\n",
    "\n",
    "def generate_instance(dim=40, density=0.3, num_instances=1):\n",
    "    folder = Path(f'./temp/dim{dim}_density{density}') # base directory:'./temp/'\n",
    "    folder.mkdir(parents=True, exist_ok=True) \n",
    "    for i in range(num_instances):\n",
    "        generator = generate_map(dim, dim, density)\n",
    "        env_map_file_path = folder / f'random_{dim}_{density}_case_{i+1}.map'\n",
    "        save_env_map_to_file(generator, env_map_file_path)\n",
    "\n"
   ]
  },
  {
   "cell_type": "code",
   "execution_count": null,
   "metadata": {},
   "outputs": [],
   "source": [
    "def run_eecbs_on_files(base_dir, k=64, t=60, suboptimality=1.2):\n",
    " \n",
    "    # Assuming the base_dir is 'instances' or any other directory containing your generated folders\n",
    "    folders = [folder for folder in Path(base_dir).iterdir() if folder.is_dir()]\n",
    "\n",
    "    for folder in folders:\n",
    "        \n",
    "        map_files = list(folder.glob('*.map'))\n",
    "\n",
    "        for map_file in map_files:\n",
    "            output_base = f'{map_file.stem}'\n",
    "            cmd = [\n",
    "                config.PATH_TO_EECBS,   # Path to the EECBS executable\n",
    "                '-m', str(map_file),\n",
    "                '-a', f'{folder}/{output_base}_agents_{k}.scen',\n",
    "                '-o', f'{folder}/{output_base}_agents_{k}_stats.csv',           \n",
    "                '--outputPaths', f'{folder}/{output_base}_agents_{k}_paths.txt', \n",
    "                '-k', str(k),\n",
    "                '-t', str(t),\n",
    "                '--suboptimality', str(suboptimality)\n",
    "            ]\n",
    "            subprocess.run(cmd)\n",
    "\n",
    "\n"
   ]
  },
  {
   "cell_type": "code",
   "execution_count": null,
   "metadata": {},
   "outputs": [],
   "source": [
    "generate_instance(dim=40, density=0.3, num_instances=100)"
   ]
  },
  {
   "cell_type": "code",
   "execution_count": null,
   "metadata": {},
   "outputs": [],
   "source": [
    "base_directory = './temp/'\n",
    "for i in [4,8,16,32,64]:\n",
    "    run_eecbs_on_files(base_directory,i)"
   ]
  }
 ],
 "metadata": {
  "kernelspec": {
   "display_name": "Python 3",
   "language": "python",
   "name": "python3"
  },
  "language_info": {
   "codemirror_mode": {
    "name": "ipython",
    "version": 3
   },
   "file_extension": ".py",
   "mimetype": "text/x-python",
   "name": "python",
   "nbconvert_exporter": "python",
   "pygments_lexer": "ipython3",
   "version": "3.10.12"
  },
  "orig_nbformat": 4
 },
 "nbformat": 4,
 "nbformat_minor": 2
}
